{
 "cells": [
  {
   "cell_type": "code",
   "execution_count": 7,
   "metadata": {},
   "outputs": [],
   "source": [
    "import json\n",
    "from transformers import AutoTokenizer\n",
    "tokenizer = AutoTokenizer.from_pretrained(\"bert-base-uncased\")"
   ]
  },
  {
   "cell_type": "code",
   "execution_count": 8,
   "metadata": {},
   "outputs": [],
   "source": [
    "def get_data(datapath):\n",
    "    data = []\n",
    "    with open(datapath) as f:\n",
    "        for line in f:\n",
    "            data.append(json.loads(line))\n",
    "    return data"
   ]
  },
  {
   "cell_type": "code",
   "execution_count": 9,
   "metadata": {},
   "outputs": [],
   "source": [
    "def loop_data(data,event_roles,data_type,event_map):\n",
    "    full_list = []\n",
    "    template_list = []\n",
    "    role_filling_dict = {}\n",
    "    if data_type=='train':\n",
    "        type_name = 'TRAIN1'\n",
    "    elif data_type=='dev':\n",
    "        type_name = 'DEV2'\n",
    "    else:\n",
    "        type_name = 'TEST3'\n",
    "    filename = \"../data/wikievents/\"+data_type+\".json\"\n",
    "    with open(filename, 'w') as outfile:\n",
    "        for i,doc in enumerate(data):\n",
    "            doc_dict = {}\n",
    "            name = type_name +'-'+\"WIKI-\"+str(i).zfill(4)\n",
    "            doc_dict['docid'] = name\n",
    "            doc_dict['doctext'] = doc['text'].lower()\n",
    "            doc_dict['templates'] = []\n",
    "            events_mentions = doc['event_mentions']\n",
    "            for event in events_mentions:\n",
    "                if len(event['arguments'])>0:\n",
    "                    role_dict = {}\n",
    "                    try:\n",
    "                        role_dict['incident_type'] = event_map[event['event_type'].lower()]\n",
    "                        cut_event = tokenizer.tokenize(event_map[event['event_type'].lower()])[0]\n",
    "                        all_roles = event_roles[event['event_type']]['roles']\n",
    "                        role_filling_dict[cut_event] = all_roles\n",
    "                    except:\n",
    "                        continue\n",
    "                    template_list.append(event_map[event['event_type'].lower()])\n",
    "                    for role in all_roles:\n",
    "                        role_dict[role] = []\n",
    "                        for event_arg in event['arguments']:\n",
    "                            if role==event_arg['role']:\n",
    "                                role_dict[role].append([[event_arg['text'].lower(),doc['text'].find(event_arg['text'])]])\n",
    "                    doc_dict['templates'].append(role_dict)\n",
    "            full_list.append(doc_dict)\n",
    "            json.dump(doc_dict, outfile, ensure_ascii=False)\n",
    "            outfile.write('\\n')\n",
    "    return full_list, list(set(template_list)), role_filling_dict"
   ]
  },
  {
   "cell_type": "code",
   "execution_count": 10,
   "metadata": {},
   "outputs": [],
   "source": [
    "with open('../data/wikievents/event_role_KAIROS.json') as f:\n",
    "    event_roles = json.load(f)\n",
    "with open('../data/wikievents/template_dicts_mapping.json') as f:\n",
    "    event_map = json.load(f)\n",
    "train,train_template,train_role_dict = loop_data(get_data(\"../data/wikievents/train.jsonl\"),event_roles,'train',event_map)\n",
    "dev, dev_template,dev_role_dict = loop_data(get_data(\"../data/wikievents/dev.jsonl\"),event_roles,'dev',event_map)\n",
    "test, test_template,test_role_dict = loop_data(get_data(\"../data/wikievents/test.jsonl\"),event_roles,'test',event_map)\n",
    "\n",
    "all_templates = list(set(train_template + dev_template + test_template))\n",
    "templates_dict = {}\n",
    "for template in all_templates:\n",
    "    templates_dict[template] = template\n",
    "    \n",
    "with open(\"../data/wikievents/template_dicts.json\", 'w') as f:\n",
    "    json.dump(templates_dict, f, ensure_ascii=False, indent = 4)\n",
    "    \n",
    "full_role_dict = {**train_role_dict, **dev_role_dict, **test_role_dict}\n",
    "\n",
    "with open(\"../data/wikievents/role_dicts.json\", 'w') as f:\n",
    "    json.dump(full_role_dict, f, ensure_ascii=False, indent = 4)"
   ]
  },
  {
   "cell_type": "code",
   "execution_count": null,
   "metadata": {},
   "outputs": [],
   "source": []
  }
 ],
 "metadata": {
  "kernelspec": {
   "display_name": "Python 3",
   "language": "python",
   "name": "python3"
  },
  "language_info": {
   "codemirror_mode": {
    "name": "ipython",
    "version": 3
   },
   "file_extension": ".py",
   "mimetype": "text/x-python",
   "name": "python",
   "nbconvert_exporter": "python",
   "pygments_lexer": "ipython3",
   "version": "3.6.9"
  }
 },
 "nbformat": 4,
 "nbformat_minor": 2
}
